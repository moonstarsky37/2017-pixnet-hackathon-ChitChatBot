{
 "cells": [
  {
   "cell_type": "code",
   "execution_count": null,
   "metadata": {
    "collapsed": true
   },
   "outputs": [],
   "source": [
    "# coding=UTF-8\n",
    "\n",
    "import sys, os, datetime, time, re\n",
    "import random\n",
    "from slackbot import bot\n",
    "\n",
    "## 請預先將主辦單位分發的 Bot token 設成環境變數，以避免放置在程式中有外流之疑慮\n",
    "TOKEN_MYBOT = os.environ['MY_BOT']\n",
    "bot.settings.API_TOKEN  = TOKEN_MYBOT\n",
    "\n",
    "\n",
    "from slackbot.bot import Bot\n",
    "from slackbot.bot import respond_to\n",
    "from slackbot.bot import listen_to"
   ]
  },
  {
   "cell_type": "code",
   "execution_count": null,
   "metadata": {
    "collapsed": true
   },
   "outputs": [],
   "source": [
    "def main():\n",
    "    bot = Bot()\n",
    "    bot.run()"
   ]
  },
  {
   "cell_type": "markdown",
   "metadata": {},
   "source": [
    "# 可以將演算法接在這裡"
   ]
  },
  {
   "cell_type": "code",
   "execution_count": null,
   "metadata": {
    "collapsed": true
   },
   "outputs": [],
   "source": [
    "def algorithm(question_string):\n",
    "    answer_string = u\"我是回答\"\n",
    "    return answer_string"
   ]
  },
  {
   "cell_type": "markdown",
   "metadata": {},
   "source": [
    "# 當聽見 pixbot 說『問題』時，呼叫設計好的演算法給出對應的答案"
   ]
  },
  {
   "cell_type": "code",
   "execution_count": null,
   "metadata": {
    "collapsed": true
   },
   "outputs": [],
   "source": [
    "@listen_to(unicode(\"『問題』\", 'utf-8') + ' (.*)')\n",
    "def receive_question(message, question_string):\n",
    "    if message._client.users[message._get_user_id()][u'name'] == \"pixbot\":\n",
    "        answer = algorithm(question_string)\n",
    "        message.send(answer)"
   ]
  },
  {
   "cell_type": "markdown",
   "metadata": {},
   "source": [
    "# 執行 bot 主程式"
   ]
  },
  {
   "cell_type": "code",
   "execution_count": null,
   "metadata": {
    "collapsed": false
   },
   "outputs": [],
   "source": [
    "main()"
   ]
  },
  {
   "cell_type": "code",
   "execution_count": null,
   "metadata": {
    "collapsed": true
   },
   "outputs": [],
   "source": []
  }
 ],
 "metadata": {
  "kernelspec": {
   "display_name": "Python 2",
   "language": "python",
   "name": "python2"
  },
  "language_info": {
   "codemirror_mode": {
    "name": "ipython",
    "version": 2
   },
   "file_extension": ".py",
   "mimetype": "text/x-python",
   "name": "python",
   "nbconvert_exporter": "python",
   "pygments_lexer": "ipython2",
   "version": "2.7.9"
  }
 },
 "nbformat": 4,
 "nbformat_minor": 1
}
